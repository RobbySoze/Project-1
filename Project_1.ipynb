{
  "nbformat": 4,
  "nbformat_minor": 0,
  "metadata": {
    "colab": {
      "provenance": [],
      "authorship_tag": "ABX9TyMtl7huIdsw6qSINpKgIYCf",
      "include_colab_link": true
    },
    "kernelspec": {
      "name": "python3",
      "display_name": "Python 3"
    },
    "language_info": {
      "name": "python"
    }
  },
  "cells": [
    {
      "cell_type": "markdown",
      "metadata": {
        "id": "view-in-github",
        "colab_type": "text"
      },
      "source": [
        "<a href=\"https://colab.research.google.com/github/RobbySoze/Project-1/blob/main/Project_1.ipynb\" target=\"_parent\"><img src=\"https://colab.research.google.com/assets/colab-badge.svg\" alt=\"Open In Colab\"/></a>"
      ]
    },
    {
      "cell_type": "code",
      "execution_count": 1,
      "metadata": {
        "colab": {
          "base_uri": "https://localhost:8080/"
        },
        "id": "jW_GQZoBIfiM",
        "outputId": "dfa2852d-3093-4507-bd54-7c0f57c5a71d"
      },
      "outputs": [
        {
          "output_type": "stream",
          "name": "stdout",
          "text": [
            "Day 1: Amy is assigned to Cleaning.\n",
            "Day 1: Nick is assigned to Washing.\n",
            "Day 1: Joe is assigned to Dusting.\n",
            "Day 2: Nick is assigned to Cleaning.\n",
            "Day 2: Amy is assigned to Washing.\n",
            "Day 2: Joe is assigned to Dusting.\n",
            "Day 3: Nick is assigned to Cleaning.\n",
            "Day 3: Joe is assigned to Washing.\n",
            "Day 3: Amy is assigned to Dusting.\n",
            "Day 4: Amy is assigned to Cleaning.\n",
            "Day 4: Nick is assigned to Washing.\n",
            "Day 4: Joe is assigned to Dusting.\n",
            "Day 5: Nick is assigned to Cleaning.\n",
            "Day 5: Joe is assigned to Washing.\n",
            "Day 5: Amy is assigned to Dusting.\n",
            "Day 6: Amy is assigned to Cleaning.\n",
            "Day 6: Nick is assigned to Washing.\n",
            "Day 6: Joe is assigned to Dusting.\n",
            "Day 7: Nick is assigned to Cleaning.\n",
            "Day 7: Amy is assigned to Washing.\n",
            "Day 7: Joe is assigned to Dusting.\n"
          ]
        }
      ],
      "source": [
        "import random\n",
        "\n",
        "# Define a list of kids\n",
        "kids = [\"Amy\", \"Joe\", \"Nick\"]\n",
        "\n",
        "# Define a list of tasks\n",
        "tasks = [\"Cleaning\", \"Washing\", \"Dusting\"]\n",
        "\n",
        "# Assign a task to each kid for 7 days\n",
        "for day in range(1, 8):\n",
        "    random.shuffle(kids)\n",
        "    for kid, task in zip(kids, tasks):\n",
        "        print(f\"Day {day}: {kid} is assigned to {task}.\")\n"
      ]
    }
  ]
}