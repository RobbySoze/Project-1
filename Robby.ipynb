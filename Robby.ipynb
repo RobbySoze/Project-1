{
  "cells": [
    {
      "cell_type": "markdown",
      "metadata": {
        "id": "view-in-github",
        "colab_type": "text"
      },
      "source": [
        "<a href=\"https://colab.research.google.com/github/RobbySoze/Project-1/blob/main/Robby.ipynb\" target=\"_parent\"><img src=\"https://colab.research.google.com/assets/colab-badge.svg\" alt=\"Open In Colab\"/></a>"
      ]
    },
    {
      "cell_type": "code",
      "execution_count": null,
      "id": "1192bd6e",
      "metadata": {
        "execution": {
          "iopub.execute_input": "2022-10-27T10:10:02.671256Z",
          "iopub.status.busy": "2022-10-27T10:10:02.670533Z",
          "iopub.status.idle": "2022-10-27T10:10:11.026460Z",
          "shell.execute_reply": "2022-10-27T10:10:11.024473Z"
        },
        "papermill": {
          "duration": 8.368432,
          "end_time": "2022-10-27T10:10:11.030024",
          "exception": false,
          "start_time": "2022-10-27T10:10:02.661592",
          "status": "completed"
        },
        "tags": [],
        "id": "1192bd6e"
      },
      "outputs": [],
      "source": [
        "import numpy as np\n",
        "import os\n",
        "import pandas as pd\n",
        "import tensorflow as tf\n",
        "from tensorflow.keras import layers\n",
        "from tensorflow import keras\n",
        "import matplotlib.pyplot as plt\n",
        "import cv2"
      ]
    },
    {
      "cell_type": "code",
      "execution_count": null,
      "id": "e56f7cb4",
      "metadata": {
        "id": "e56f7cb4"
      },
      "outputs": [],
      "source": [
        "### Directory for the images\n",
        "base_dir = '/handwriting-recognition'\n",
        "train_images_dir = os.path.join(base_dir, 'train')\n",
        "validation_images_dir = os.path.join(base_dir, 'validation')\n",
        "test_images_dir = os.path.join(base_dir, 'test')"
      ]
    },
    {
      "cell_type": "code",
      "execution_count": null,
      "id": "36e03011",
      "metadata": {
        "execution": {
          "iopub.execute_input": "2022-10-27T10:10:11.046790Z",
          "iopub.status.busy": "2022-10-27T10:10:11.045879Z",
          "iopub.status.idle": "2022-10-27T10:10:11.808378Z",
          "shell.execute_reply": "2022-10-27T10:10:11.806756Z"
        },
        "papermill": {
          "duration": 0.775524,
          "end_time": "2022-10-27T10:10:11.812486",
          "exception": false,
          "start_time": "2022-10-27T10:10:11.036962",
          "status": "completed"
        },
        "tags": [],
        "id": "36e03011"
      },
      "outputs": [],
      "source": [
        "### Load the datasets\n",
        "train = pd.read_csv('written_name_train.csv')\n",
        "validation = pd.read_csv('written_name_validation.csv')\n",
        "test = pd.read_csv('written_name_test.csv')"
      ]
    },
    {
      "cell_type": "code",
      "execution_count": null,
      "id": "27c4eb00",
      "metadata": {
        "execution": {
          "iopub.execute_input": "2022-10-27T10:10:11.830917Z",
          "iopub.status.busy": "2022-10-27T10:10:11.830492Z",
          "iopub.status.idle": "2022-10-27T10:10:11.856968Z",
          "shell.execute_reply": "2022-10-27T10:10:11.855339Z"
        },
        "papermill": {
          "duration": 0.039997,
          "end_time": "2022-10-27T10:10:11.860359",
          "exception": false,
          "start_time": "2022-10-27T10:10:11.820362",
          "status": "completed"
        },
        "tags": [],
        "id": "27c4eb00",
        "outputId": "3a1904f2-9a96-46ad-d607-a0d9ffe81907"
      },
      "outputs": [
        {
          "data": {
            "text/html": [
              "<div>\n",
              "<style scoped>\n",
              "    .dataframe tbody tr th:only-of-type {\n",
              "        vertical-align: middle;\n",
              "    }\n",
              "\n",
              "    .dataframe tbody tr th {\n",
              "        vertical-align: top;\n",
              "    }\n",
              "\n",
              "    .dataframe thead th {\n",
              "        text-align: right;\n",
              "    }\n",
              "</style>\n",
              "<table border=\"1\" class=\"dataframe\">\n",
              "  <thead>\n",
              "    <tr style=\"text-align: right;\">\n",
              "      <th></th>\n",
              "      <th>FILENAME</th>\n",
              "      <th>IDENTITY</th>\n",
              "    </tr>\n",
              "  </thead>\n",
              "  <tbody>\n",
              "    <tr>\n",
              "      <th>0</th>\n",
              "      <td>TRAIN_00001.jpg</td>\n",
              "      <td>BALTHAZAR</td>\n",
              "    </tr>\n",
              "    <tr>\n",
              "      <th>1</th>\n",
              "      <td>TRAIN_00002.jpg</td>\n",
              "      <td>SIMON</td>\n",
              "    </tr>\n",
              "    <tr>\n",
              "      <th>2</th>\n",
              "      <td>TRAIN_00003.jpg</td>\n",
              "      <td>BENES</td>\n",
              "    </tr>\n",
              "    <tr>\n",
              "      <th>3</th>\n",
              "      <td>TRAIN_00004.jpg</td>\n",
              "      <td>LA LOVE</td>\n",
              "    </tr>\n",
              "    <tr>\n",
              "      <th>4</th>\n",
              "      <td>TRAIN_00005.jpg</td>\n",
              "      <td>DAPHNE</td>\n",
              "    </tr>\n",
              "  </tbody>\n",
              "</table>\n",
              "</div>"
            ],
            "text/plain": [
              "          FILENAME   IDENTITY\n",
              "0  TRAIN_00001.jpg  BALTHAZAR\n",
              "1  TRAIN_00002.jpg      SIMON\n",
              "2  TRAIN_00003.jpg      BENES\n",
              "3  TRAIN_00004.jpg    LA LOVE\n",
              "4  TRAIN_00005.jpg     DAPHNE"
            ]
          },
          "execution_count": 10,
          "metadata": {},
          "output_type": "execute_result"
        }
      ],
      "source": [
        "###Read the dataset\n",
        "train.head()"
      ]
    },
    {
      "cell_type": "code",
      "execution_count": null,
      "id": "a634c7f4",
      "metadata": {
        "execution": {
          "iopub.execute_input": "2022-10-27T10:10:11.877926Z",
          "iopub.status.busy": "2022-10-27T10:10:11.877483Z",
          "iopub.status.idle": "2022-10-27T10:10:11.942738Z",
          "shell.execute_reply": "2022-10-27T10:10:11.940254Z"
        },
        "papermill": {
          "duration": 0.079026,
          "end_time": "2022-10-27T10:10:11.947324",
          "exception": false,
          "start_time": "2022-10-27T10:10:11.868298",
          "status": "completed"
        },
        "tags": [],
        "id": "a634c7f4",
        "outputId": "fdf376e6-64ef-461f-e894-ba0a9eacad37"
      },
      "outputs": [
        {
          "name": "stdout",
          "output_type": "stream",
          "text": [
            "<class 'pandas.core.frame.DataFrame'>\n",
            "RangeIndex: 330961 entries, 0 to 330960\n",
            "Data columns (total 2 columns):\n",
            " #   Column    Non-Null Count   Dtype \n",
            "---  ------    --------------   ----- \n",
            " 0   FILENAME  330961 non-null  object\n",
            " 1   IDENTITY  330396 non-null  object\n",
            "dtypes: object(2)\n",
            "memory usage: 5.1+ MB\n"
          ]
        }
      ],
      "source": [
        "### Get the general information of the datasets\n",
        "train.info()"
      ]
    },
    {
      "cell_type": "code",
      "execution_count": null,
      "id": "13473365",
      "metadata": {
        "id": "13473365",
        "outputId": "d4a28902-0e74-4a07-f9e4-46d7d30b510c"
      },
      "outputs": [
        {
          "data": {
            "text/html": [
              "<div>\n",
              "<style scoped>\n",
              "    .dataframe tbody tr th:only-of-type {\n",
              "        vertical-align: middle;\n",
              "    }\n",
              "\n",
              "    .dataframe tbody tr th {\n",
              "        vertical-align: top;\n",
              "    }\n",
              "\n",
              "    .dataframe thead th {\n",
              "        text-align: right;\n",
              "    }\n",
              "</style>\n",
              "<table border=\"1\" class=\"dataframe\">\n",
              "  <thead>\n",
              "    <tr style=\"text-align: right;\">\n",
              "      <th></th>\n",
              "      <th>FILENAME</th>\n",
              "      <th>IDENTITY</th>\n",
              "    </tr>\n",
              "  </thead>\n",
              "  <tbody>\n",
              "    <tr>\n",
              "      <th>count</th>\n",
              "      <td>330961</td>\n",
              "      <td>330396</td>\n",
              "    </tr>\n",
              "    <tr>\n",
              "      <th>unique</th>\n",
              "      <td>330961</td>\n",
              "      <td>100539</td>\n",
              "    </tr>\n",
              "    <tr>\n",
              "      <th>top</th>\n",
              "      <td>TRAIN_00001.jpg</td>\n",
              "      <td>THOMAS</td>\n",
              "    </tr>\n",
              "    <tr>\n",
              "      <th>freq</th>\n",
              "      <td>1</td>\n",
              "      <td>1825</td>\n",
              "    </tr>\n",
              "  </tbody>\n",
              "</table>\n",
              "</div>"
            ],
            "text/plain": [
              "               FILENAME IDENTITY\n",
              "count            330961   330396\n",
              "unique           330961   100539\n",
              "top     TRAIN_00001.jpg   THOMAS\n",
              "freq                  1     1825"
            ]
          },
          "execution_count": 12,
          "metadata": {},
          "output_type": "execute_result"
        }
      ],
      "source": [
        "### Get the stat of the datasets\n",
        "train.describe()"
      ]
    },
    {
      "cell_type": "code",
      "execution_count": null,
      "id": "c6a2ea87",
      "metadata": {
        "id": "c6a2ea87",
        "outputId": "1dae92e9-1bd9-4f55-cc6b-fb6f756e3c93"
      },
      "outputs": [
        {
          "name": "stdout",
          "output_type": "stream",
          "text": [
            "565\n",
            "70\n",
            "78\n"
          ]
        }
      ],
      "source": [
        "#### Check for null values in the datasets\n",
        "print(train.isnull().sum().max())\n",
        "print(test.isnull().sum().max())\n",
        "print(validation.isnull().sum().max())"
      ]
    },
    {
      "cell_type": "code",
      "execution_count": null,
      "id": "a010a328",
      "metadata": {
        "execution": {
          "iopub.execute_input": "2022-10-27T10:10:11.964709Z",
          "iopub.status.busy": "2022-10-27T10:10:11.964246Z",
          "iopub.status.idle": "2022-10-27T10:10:12.051283Z",
          "shell.execute_reply": "2022-10-27T10:10:12.049461Z"
        },
        "papermill": {
          "duration": 0.100152,
          "end_time": "2022-10-27T10:10:12.055084",
          "exception": false,
          "start_time": "2022-10-27T10:10:11.954932",
          "status": "completed"
        },
        "tags": [],
        "id": "a010a328"
      },
      "outputs": [],
      "source": [
        "train_csv = train.dropna()\n",
        "\n",
        "validation_csv = validation.dropna()\n",
        "\n",
        "test_csv = test.dropna()"
      ]
    },
    {
      "cell_type": "code",
      "execution_count": null,
      "id": "8fcf5a6d",
      "metadata": {
        "id": "8fcf5a6d",
        "outputId": "887d98ad-261c-4afb-bfbe-328eed8b5d99"
      },
      "outputs": [
        {
          "name": "stdout",
          "output_type": "stream",
          "text": [
            "0\n",
            "0\n",
            "0\n"
          ]
        }
      ],
      "source": [
        "#### Check for null values in the datasets after dropping\n",
        "print(train_csv.isnull().sum().max())\n",
        "print(test_csv.isnull().sum().max())\n",
        "print(validation_csv.isnull().sum().max())"
      ]
    },
    {
      "cell_type": "code",
      "execution_count": null,
      "id": "770404d3",
      "metadata": {
        "execution": {
          "iopub.execute_input": "2022-10-27T10:10:12.073026Z",
          "iopub.status.busy": "2022-10-27T10:10:12.072572Z",
          "iopub.status.idle": "2022-10-27T10:10:13.229113Z",
          "shell.execute_reply": "2022-10-27T10:10:13.227370Z"
        },
        "papermill": {
          "duration": 1.168944,
          "end_time": "2022-10-27T10:10:13.232048",
          "exception": false,
          "start_time": "2022-10-27T10:10:12.063104",
          "status": "completed"
        },
        "tags": [],
        "id": "770404d3",
        "outputId": "09766799-3bd4-4549-bbd8-472eaf6fde14"
      },
      "outputs": [
        {
          "data": {
            "image/png": "[encoded data removed]",
            "text/plain": [
              "<Figure size 1080x216 with 6 Axes>"
            ]
          },
          "metadata": {
            "needs_background": "light"
          },
          "output_type": "display_data"
        }
      ],
      "source": [
        "#### Convert images into float and index them\n",
        "unreadable_indexes = train_csv[train_csv['IDENTITY'] == 'UNREADABLE'].index\n",
        "\n",
        "plt.figure(figsize = (15,3))\n",
        "\n",
        "offset = 10\n",
        "for i in range(6):\n",
        "    ax = plt.subplot(2, 3, i+1)\n",
        "    image_name = train_csv.iloc[unreadable_indexes[i + offset],0]\n",
        "    image = cv2.imread(os.path.join(train_images_dir, image_name), cv2.IMREAD_GRAYSCALE)\n",
        "    plt.imshow(image, 'gray')"
      ]
    },
    {
      "cell_type": "code",
      "execution_count": null,
      "id": "c23504f9",
      "metadata": {
        "execution": {
          "iopub.execute_input": "2022-10-27T10:10:13.251196Z",
          "iopub.status.busy": "2022-10-27T10:10:13.250661Z",
          "iopub.status.idle": "2022-10-27T10:10:13.322492Z",
          "shell.execute_reply": "2022-10-27T10:10:13.321159Z"
        },
        "papermill": {
          "duration": 0.084798,
          "end_time": "2022-10-27T10:10:13.326261",
          "exception": false,
          "start_time": "2022-10-27T10:10:13.241463",
          "status": "completed"
        },
        "tags": [],
        "id": "c23504f9"
      },
      "outputs": [],
      "source": [
        "### Get the new dataframe\n",
        "train_csv = train_csv[train_csv['IDENTITY'] != 'UNREADABLE']\n",
        "\n",
        "validation_csv = validation_csv[validation_csv['IDENTITY'] != 'UNREADABLE']\n",
        "\n",
        "test_csv = test_csv[test_csv['IDENTITY'] != 'UNREADABLE']"
      ]
    },
    {
      "cell_type": "code",
      "execution_count": null,
      "id": "e9c3ddd1",
      "metadata": {
        "execution": {
          "iopub.execute_input": "2022-10-27T10:10:13.344996Z",
          "iopub.status.busy": "2022-10-27T10:10:13.344507Z",
          "iopub.status.idle": "2022-10-27T10:10:13.684817Z",
          "shell.execute_reply": "2022-10-27T10:10:13.683205Z"
        },
        "papermill": {
          "duration": 0.353379,
          "end_time": "2022-10-27T10:10:13.687874",
          "exception": false,
          "start_time": "2022-10-27T10:10:13.334495",
          "status": "completed"
        },
        "tags": [],
        "id": "e9c3ddd1",
        "outputId": "d40de490-35fe-43c7-c713-d3391e5d2ce3"
      },
      "outputs": [
        {
          "name": "stdout",
          "output_type": "stream",
          "text": [
            "Number of samples found:  330294\n",
            "Number of unique characters:  30\n",
            "Characters present:  {'k', 'y', 'i', 'r', 'j', 'x', '`', 'c', \"'\", 'n', 'q', 'a', 'v', 'o', 'm', ' ', 't', '-', 'l', 'h', 'g', 'z', 'u', 'e', 'p', 's', 'w', 'd', 'f', 'b'}\n"
          ]
        }
      ],
      "source": [
        "### Display the new samples in the dataset\n",
        "train_csv['IDENTITY'] = train_csv['IDENTITY'].str.lower()\n",
        "validation_csv['IDENTITY'] = validation_csv['IDENTITY'].str.lower()\n",
        "test_csv['IDENTITY'] = test_csv['IDENTITY'].str.lower()\n",
        "\n",
        "\n",
        "\n",
        "characters = set(char for label in train_csv['IDENTITY'].values for char in label)\n",
        "\n",
        "print(\"Number of samples found: \", len(train_csv.values))\n",
        "print(\"Number of unique characters: \", len(characters))\n",
        "print(\"Characters present: \", characters)"
      ]
    },
    {
      "cell_type": "code",
      "execution_count": null,
      "id": "44bbf1ce",
      "metadata": {
        "execution": {
          "iopub.execute_input": "2022-10-27T10:10:13.706243Z",
          "iopub.status.busy": "2022-10-27T10:10:13.705756Z",
          "iopub.status.idle": "2022-10-27T10:10:14.924101Z",
          "shell.execute_reply": "2022-10-27T10:10:14.922368Z"
        },
        "papermill": {
          "duration": 1.232549,
          "end_time": "2022-10-27T10:10:14.928494",
          "exception": false,
          "start_time": "2022-10-27T10:10:13.695945",
          "status": "completed"
        },
        "tags": [],
        "id": "44bbf1ce",
        "outputId": "0d8c9d26-cd27-4beb-cb6f-53aafd2559ca"
      },
      "outputs": [
        {
          "name": "stdout",
          "output_type": "stream",
          "text": [
            "Sample sequence:  [10, 2, 11, 18, 5, 1, 25, 8, 1, 24, 8]\n",
            "Sample pad:  [10  2 11 18  5  1 25  8  1 24  8  0  0  0  0  0  0  0  0  0  0  0  0  0\n",
            "  0  0  0  0  0  0  0  0  0  0]\n",
            "Sample text:  s a m p l e   t e x t\n"
          ]
        }
      ],
      "source": [
        "### Get the sequency in which images occur, sample pad and text\n",
        "from tensorflow.keras.preprocessing.text import Tokenizer\n",
        "from tensorflow.keras.preprocessing.sequence import pad_sequences\n",
        "\n",
        "max_length = max([len(label) for label in train_csv['IDENTITY'].values])\n",
        "tokenizer = Tokenizer(num_words = max_length, char_level = True)\n",
        "tokenizer.fit_on_texts(train_csv['IDENTITY'].values)\n",
        "word_index = tokenizer.word_index\n",
        "\n",
        "sample_sequence = tokenizer.texts_to_sequences(['sample text'])\n",
        "sample_pad = pad_sequences(sample_sequence, maxlen = max_length, padding = 'post')\n",
        "sample_text = tokenizer.sequences_to_texts(sample_sequence)\n",
        "print(\"Sample sequence: \", sample_sequence[0])\n",
        "print(\"Sample pad: \", sample_pad[0])\n",
        "print(\"Sample text: \", sample_text[0])\n",
        "\n",
        "img_width = 50\n",
        "img_height = 200"
      ]
    },
    {
      "cell_type": "code",
      "execution_count": null,
      "id": "ced818b3",
      "metadata": {
        "execution": {
          "iopub.execute_input": "2022-10-27T10:10:14.953610Z",
          "iopub.status.busy": "2022-10-27T10:10:14.953109Z",
          "iopub.status.idle": "2022-10-27T10:10:15.750591Z",
          "shell.execute_reply": "2022-10-27T10:10:15.749147Z"
        },
        "papermill": {
          "duration": 0.810497,
          "end_time": "2022-10-27T10:10:15.753768",
          "exception": false,
          "start_time": "2022-10-27T10:10:14.943271",
          "status": "completed"
        },
        "tags": [],
        "id": "ced818b3",
        "outputId": "4f8580c4-2f7e-44c9-c09a-31bd1deee43e"
      },
      "outputs": [
        {
          "data": {
            "image/png": "[encoded data removed]",
            "text/plain": [
              "<Figure size 1080x216 with 6 Axes>"
            ]
          },
          "metadata": {
            "needs_background": "light"
          },
          "output_type": "display_data"
        }
      ],
      "source": [
        "### Show the the converted images in a subplots\n",
        "plt.figure(figsize = (15,3))\n",
        "\n",
        "offset = 0\n",
        "for i in range(6):\n",
        "    ax = plt.subplot(2, 3, i+1)\n",
        "    image_name = train_csv.iloc[i + offset,0]\n",
        "    image = cv2.imread(os.path.join(train_images_dir, image_name), cv2.IMREAD_GRAYSCALE)\n",
        "    plt.imshow(image, 'gray')\n",
        "    plt.title(f'{train_csv.iloc[i + offset,1]},{image.shape}')"
      ]
    },
    {
      "cell_type": "code",
      "execution_count": null,
      "id": "23cbceaa",
      "metadata": {
        "execution": {
          "iopub.execute_input": "2022-10-27T10:10:15.776684Z",
          "iopub.status.busy": "2022-10-27T10:10:15.774930Z",
          "iopub.status.idle": "2022-10-27T10:10:15.787023Z",
          "shell.execute_reply": "2022-10-27T10:10:15.784935Z"
        },
        "papermill": {
          "duration": 0.027575,
          "end_time": "2022-10-27T10:10:15.790428",
          "exception": false,
          "start_time": "2022-10-27T10:10:15.762853",
          "status": "completed"
        },
        "tags": [],
        "id": "23cbceaa"
      },
      "outputs": [],
      "source": [
        "#### Process the sample images, each separately\n",
        "images = train_csv['FILENAME'].values\n",
        "labels = train_csv['IDENTITY'].values\n",
        "\n",
        "\n",
        "def preprocess_single_sample(image_path, label, TEST = False):\n",
        "    if TEST:\n",
        "        img = cv2.imread(os.path.join(validation_images_dir, image_path), cv2.IMREAD_GRAYSCALE)\n",
        "    else:\n",
        "        img = cv2.imread(os.path.join(train_images_dir, image_path), cv2.IMREAD_GRAYSCALE)\n",
        "        \n",
        "    img = cv2.resize(img,(img_height, img_width), interpolation = cv2.INTER_AREA)\n",
        "    img = cv2.rotate(img, cv2.ROTATE_90_CLOCKWISE) / 255\n",
        "    \n",
        "    label_sequence = tokenizer.texts_to_sequences([label])\n",
        "    label = pad_sequences(label_sequence, maxlen = max_length, padding = 'post')[0]\n",
        "    \n",
        "    return img,label"
      ]
    },
    {
      "cell_type": "code",
      "execution_count": null,
      "id": "5adc9795",
      "metadata": {
        "execution": {
          "iopub.execute_input": "2022-10-27T10:10:15.810488Z",
          "iopub.status.busy": "2022-10-27T10:10:15.809827Z",
          "iopub.status.idle": "2022-10-27T10:10:15.832109Z",
          "shell.execute_reply": "2022-10-27T10:10:15.830537Z"
        },
        "papermill": {
          "duration": 0.036111,
          "end_time": "2022-10-27T10:10:15.835644",
          "exception": false,
          "start_time": "2022-10-27T10:10:15.799533",
          "status": "completed"
        },
        "tags": [],
        "id": "5adc9795"
      },
      "outputs": [],
      "source": [
        "### Define the length of each dataset\n",
        "train_length = 30000\n",
        "validation_length = 3000\n",
        "test_length = 3000\n",
        "\n",
        "indices = np.arange(len(train_csv))\n",
        "np.random.shuffle(indices)\n",
        "\n",
        "test_indices = np.arange(len(test_csv))\n",
        "np.random.shuffle(test_indices)"
      ]
    },
    {
      "cell_type": "code",
      "execution_count": null,
      "id": "d22585cb",
      "metadata": {
        "execution": {
          "iopub.execute_input": "2022-10-27T10:10:15.856642Z",
          "iopub.status.busy": "2022-10-27T10:10:15.855781Z",
          "iopub.status.idle": "2022-10-27T10:15:17.717138Z",
          "shell.execute_reply": "2022-10-27T10:15:17.715501Z"
        },
        "papermill": {
          "duration": 301.875539,
          "end_time": "2022-10-27T10:15:17.720653",
          "exception": false,
          "start_time": "2022-10-27T10:10:15.845114",
          "status": "completed"
        },
        "tags": [],
        "id": "d22585cb"
      },
      "outputs": [],
      "source": [
        "### Create models and append each single image to the models\n",
        "x_train = []\n",
        "y_train = []\n",
        "train_label_len = []\n",
        "for i in range(train_length):\n",
        "    image_name = train_csv.iloc[indices[i], 0]\n",
        "    label = train_csv.iloc[indices[i], 1]\n",
        "    train_label_len.append(len(label))\n",
        "    \n",
        "    img, label = preprocess_single_sample(image_name, label)\n",
        "    img = np.expand_dims(img, axis = 2)\n",
        "    x_train.append(img)\n",
        "    y_train.append(label)\n",
        "    \n",
        "x_train = np.array(x_train)\n",
        "y_train = np.array(y_train)\n",
        "train_label_len = np.array(train_label_len)"
      ]
    },
    {
      "cell_type": "code",
      "execution_count": null,
      "id": "a9cade81",
      "metadata": {
        "execution": {
          "iopub.execute_input": "2022-10-27T10:15:17.741704Z",
          "iopub.status.busy": "2022-10-27T10:15:17.741222Z",
          "iopub.status.idle": "2022-10-27T10:15:47.133805Z",
          "shell.execute_reply": "2022-10-27T10:15:47.132117Z"
        },
        "papermill": {
          "duration": 29.406731,
          "end_time": "2022-10-27T10:15:47.137161",
          "exception": false,
          "start_time": "2022-10-27T10:15:17.730430",
          "status": "completed"
        },
        "tags": [],
        "id": "a9cade81"
      },
      "outputs": [],
      "source": [
        "x_val = []\n",
        "y_val = []\n",
        "valid_label_len = []\n",
        "\n",
        "for i in range(train_length, train_length+validation_length):\n",
        "    image_name = train_csv.iloc[indices[i], 0]\n",
        "    label = train_csv.iloc[indices[i], 1]\n",
        "    valid_label_len.append(len(label))\n",
        "    \n",
        "    img, label = preprocess_single_sample(image_name, label)\n",
        "    img = np.expand_dims(img, axis = 2)\n",
        "    x_val.append(img)\n",
        "    y_val.append(label)\n",
        "\n",
        "x_val = np.array(x_val)\n",
        "y_val = np.array(y_val)\n",
        "valid_label_len = np.array(valid_label_len)"
      ]
    },
    {
      "cell_type": "code",
      "execution_count": null,
      "id": "bda4c372",
      "metadata": {
        "execution": {
          "iopub.execute_input": "2022-10-27T10:15:47.158423Z",
          "iopub.status.busy": "2022-10-27T10:15:47.157752Z",
          "iopub.status.idle": "2022-10-27T10:16:13.053869Z",
          "shell.execute_reply": "2022-10-27T10:16:13.052447Z"
        },
        "papermill": {
          "duration": 25.910639,
          "end_time": "2022-10-27T10:16:13.057362",
          "exception": false,
          "start_time": "2022-10-27T10:15:47.146723",
          "status": "completed"
        },
        "tags": [],
        "id": "bda4c372"
      },
      "outputs": [],
      "source": [
        "x_test = []\n",
        "y_test = []\n",
        "\n",
        "for i in range(test_length):\n",
        "    image_name = train_csv.iloc[test_indices[i], 0]\n",
        "    label = train_csv.iloc[test_indices[i], 1]\n",
        "    \n",
        "    img, _ = preprocess_single_sample(image_name, label)\n",
        "    img = np.expand_dims(img, axis = 2)\n",
        "    x_test.append(img)\n",
        "    y_test.append(label)\n",
        "\n",
        "x_test = np.array(x_test)\n",
        "y_test = np.array(y_test)"
      ]
    },
    {
      "cell_type": "code",
      "execution_count": null,
      "id": "d35fbbbf",
      "metadata": {
        "execution": {
          "iopub.execute_input": "2022-10-27T10:16:13.077447Z",
          "iopub.status.busy": "2022-10-27T10:16:13.076953Z",
          "iopub.status.idle": "2022-10-27T10:16:13.085723Z",
          "shell.execute_reply": "2022-10-27T10:16:13.084341Z"
        },
        "papermill": {
          "duration": 0.022656,
          "end_time": "2022-10-27T10:16:13.088997",
          "exception": false,
          "start_time": "2022-10-27T10:16:13.066341",
          "status": "completed"
        },
        "tags": [],
        "id": "d35fbbbf",
        "outputId": "72ae05e1-c341-43de-dc81-35c278530ce0"
      },
      "outputs": [
        {
          "data": {
            "text/plain": [
              "((30000, 200, 50, 1), (3000, 200, 50, 1), (30000, 34), (3000, 34))"
            ]
          },
          "execution_count": 17,
          "metadata": {},
          "output_type": "execute_result"
        }
      ],
      "source": [
        "x_train.shape, x_val.shape, y_train.shape, y_val.shape"
      ]
    },
    {
      "cell_type": "code",
      "execution_count": null,
      "id": "42069c57",
      "metadata": {
        "execution": {
          "iopub.execute_input": "2022-10-27T10:16:13.108546Z",
          "iopub.status.busy": "2022-10-27T10:16:13.108010Z",
          "iopub.status.idle": "2022-10-27T10:16:13.116300Z",
          "shell.execute_reply": "2022-10-27T10:16:13.114772Z"
        },
        "papermill": {
          "duration": 0.0214,
          "end_time": "2022-10-27T10:16:13.119172",
          "exception": false,
          "start_time": "2022-10-27T10:16:13.097772",
          "status": "completed"
        },
        "tags": [],
        "id": "42069c57"
      },
      "outputs": [],
      "source": [
        "train_input_len = np.ones([train_length, 1]) * 48\n",
        "valid_input_len = np.ones([validation_length, 1]) * 48\n",
        "valid_output = np.zeros([validation_length])"
      ]
    },
    {
      "cell_type": "code",
      "execution_count": null,
      "id": "82a66e57",
      "metadata": {
        "execution": {
          "iopub.execute_input": "2022-10-27T10:16:13.139042Z",
          "iopub.status.busy": "2022-10-27T10:16:13.138533Z",
          "iopub.status.idle": "2022-10-27T10:16:13.146013Z",
          "shell.execute_reply": "2022-10-27T10:16:13.144183Z"
        },
        "papermill": {
          "duration": 0.02069,
          "end_time": "2022-10-27T10:16:13.148518",
          "exception": false,
          "start_time": "2022-10-27T10:16:13.127828",
          "status": "completed"
        },
        "tags": [],
        "id": "82a66e57"
      },
      "outputs": [],
      "source": [
        "from keras import backend as K\n",
        "def ctc_loss(args):\n",
        "    labels, y_pred, input_length, label_length = args\n",
        "    return K.ctc_batch_cost(labels, y_pred, input_length, label_length)"
      ]
    },
    {
      "cell_type": "code",
      "execution_count": null,
      "id": "19f689a9",
      "metadata": {
        "execution": {
          "iopub.execute_input": "2022-10-27T10:16:13.169397Z",
          "iopub.status.busy": "2022-10-27T10:16:13.167808Z",
          "iopub.status.idle": "2022-10-27T10:16:14.753140Z",
          "shell.execute_reply": "2022-10-27T10:16:14.751507Z"
        },
        "papermill": {
          "duration": 1.598571,
          "end_time": "2022-10-27T10:16:14.756130",
          "exception": false,
          "start_time": "2022-10-27T10:16:13.157559",
          "status": "completed"
        },
        "tags": [],
        "id": "19f689a9",
        "outputId": "187115b5-6af9-416d-a30e-1a073c2789e1"
      },
      "outputs": [
        {
          "name": "stderr",
          "output_type": "stream",
          "text": [
            "2022-10-27 10:16:13.259085: I tensorflow/core/common_runtime/process_util.cc:146] Creating new thread pool with default inter op setting: 2. Tune using inter_op_parallelism_threads for best performance.\n"
          ]
        }
      ],
      "source": [
        "input_img = layers.Input(shape=(200, 50, 1), name=\"image\")\n",
        "labels = layers.Input(name=\"label\", shape=(max_length,))\n",
        "input_length = layers.Input(name='input_length', shape=(1,))\n",
        "label_length = layers.Input(name='label_length', shape=(1,))\n",
        "\n",
        "x = layers.Conv2D(\n",
        "    32,\n",
        "    (3, 3),\n",
        "    activation=\"relu\",\n",
        "    kernel_initializer=\"he_normal\",\n",
        "    padding=\"same\",\n",
        "    name=\"Conv1\",\n",
        ")(input_img)\n",
        "x = layers.MaxPooling2D((2, 2), name=\"pool1\")(x)\n",
        "\n",
        "\n",
        "x = layers.Conv2D(\n",
        "    64,\n",
        "    (3, 3),\n",
        "    activation=\"relu\",\n",
        "    kernel_initializer=\"he_normal\",\n",
        "    padding=\"same\",\n",
        "    name=\"Conv2\",\n",
        ")(x)\n",
        "x = layers.MaxPooling2D((2, 2), name=\"pool2\")(x)\n",
        "\n",
        "x = layers.Reshape(target_shape=(50,768), name=\"reshape\")(x)\n",
        "x = layers.Dense(64, activation=\"relu\", name=\"dense1\")(x)\n",
        "x = layers.Dropout(0.2)(x)\n",
        "\n",
        "\n",
        "x = layers.Bidirectional(layers.LSTM(256, return_sequences=True, dropout=0.25))(x)\n",
        "x = layers.Bidirectional(layers.LSTM(256, return_sequences=True, dropout=0.25))(x)\n",
        "y_pred = layers.Dense(\n",
        "    len(characters) + 1, activation=\"softmax\", name=\"output\"\n",
        ")(x)\n",
        "\n",
        "loss_out = layers.Lambda(ctc_loss, output_shape=(1,), name='ctc')([labels, y_pred, input_length, label_length])\n",
        "model = keras.models.Model(inputs=[input_img, labels, input_length, label_length], \n",
        "                           outputs=loss_out,\n",
        "                           name=\"ocr_model_v1\")"
      ]
    },
    {
      "cell_type": "code",
      "execution_count": null,
      "id": "f3bd7e22",
      "metadata": {
        "execution": {
          "iopub.execute_input": "2022-10-27T10:16:14.776488Z",
          "iopub.status.busy": "2022-10-27T10:16:14.776009Z",
          "iopub.status.idle": "2022-10-27T10:16:14.799944Z",
          "shell.execute_reply": "2022-10-27T10:16:14.798650Z"
        },
        "papermill": {
          "duration": 0.037862,
          "end_time": "2022-10-27T10:16:14.803357",
          "exception": false,
          "start_time": "2022-10-27T10:16:14.765495",
          "status": "completed"
        },
        "tags": [],
        "id": "f3bd7e22",
        "outputId": "0b0d9d8c-1744-4dc6-d6fa-d3f75553580a"
      },
      "outputs": [
        {
          "name": "stdout",
          "output_type": "stream",
          "text": [
            "Model: \"ocr_model_v1\"\n",
            "__________________________________________________________________________________________________\n",
            "Layer (type)                    Output Shape         Param #     Connected to                     \n",
            "==================================================================================================\n",
            "image (InputLayer)              [(None, 200, 50, 1)] 0                                            \n",
            "__________________________________________________________________________________________________\n",
            "Conv1 (Conv2D)                  (None, 200, 50, 32)  320         image[0][0]                      \n",
            "__________________________________________________________________________________________________\n",
            "pool1 (MaxPooling2D)            (None, 100, 25, 32)  0           Conv1[0][0]                      \n",
            "__________________________________________________________________________________________________\n",
            "Conv2 (Conv2D)                  (None, 100, 25, 64)  18496       pool1[0][0]                      \n",
            "__________________________________________________________________________________________________\n",
            "pool2 (MaxPooling2D)            (None, 50, 12, 64)   0           Conv2[0][0]                      \n",
            "__________________________________________________________________________________________________\n",
            "reshape (Reshape)               (None, 50, 768)      0           pool2[0][0]                      \n",
            "__________________________________________________________________________________________________\n",
            "dense1 (Dense)                  (None, 50, 64)       49216       reshape[0][0]                    \n",
            "__________________________________________________________________________________________________\n",
            "dropout (Dropout)               (None, 50, 64)       0           dense1[0][0]                     \n",
            "__________________________________________________________________________________________________\n",
            "bidirectional (Bidirectional)   (None, 50, 512)      657408      dropout[0][0]                    \n",
            "__________________________________________________________________________________________________\n",
            "bidirectional_1 (Bidirectional) (None, 50, 512)      1574912     bidirectional[0][0]              \n",
            "__________________________________________________________________________________________________\n",
            "label (InputLayer)              [(None, 34)]         0                                            \n",
            "__________________________________________________________________________________________________\n",
            "output (Dense)                  (None, 50, 31)       15903       bidirectional_1[0][0]            \n",
            "__________________________________________________________________________________________________\n",
            "input_length (InputLayer)       [(None, 1)]          0                                            \n",
            "__________________________________________________________________________________________________\n",
            "label_length (InputLayer)       [(None, 1)]          0                                            \n",
            "__________________________________________________________________________________________________\n",
            "ctc (Lambda)                    (None, 1)            0           label[0][0]                      \n",
            "                                                                 output[0][0]                     \n",
            "                                                                 input_length[0][0]               \n",
            "                                                                 label_length[0][0]               \n",
            "==================================================================================================\n",
            "Total params: 2,316,255\n",
            "Trainable params: 2,316,255\n",
            "Non-trainable params: 0\n",
            "__________________________________________________________________________________________________\n"
          ]
        }
      ],
      "source": [
        "### Optimize our models\n",
        "opt = keras.optimizers.Adam()\n",
        "\n",
        "model.compile(loss={'ctc': lambda y_true, y_pred: y_pred}, optimizer=opt)\n",
        "model.summary()"
      ]
    },
    {
      "cell_type": "code",
      "execution_count": null,
      "id": "26e99441",
      "metadata": {
        "execution": {
          "iopub.execute_input": "2022-10-27T10:16:14.824704Z",
          "iopub.status.busy": "2022-10-27T10:16:14.824278Z",
          "iopub.status.idle": "2022-10-27T15:48:15.101894Z",
          "shell.execute_reply": "2022-10-27T15:48:15.100621Z"
        },
        "papermill": {
          "duration": 19920.859725,
          "end_time": "2022-10-27T15:48:15.672597",
          "exception": false,
          "start_time": "2022-10-27T10:16:14.812872",
          "status": "completed"
        },
        "tags": [],
        "id": "26e99441",
        "outputId": "9459c920-00ee-4b7f-eb0d-16983559f6c5"
      },
      "outputs": [
        {
          "name": "stderr",
          "output_type": "stream",
          "text": [
            "2022-10-27 10:16:17.211134: I tensorflow/compiler/mlir/mlir_graph_optimization_pass.cc:185] None of the MLIR Optimization Passes are enabled (registered 2)\n"
          ]
        },
        {
          "name": "stdout",
          "output_type": "stream",
          "text": [
            "Epoch 1/50\n",
            "235/235 [==============================] - 557s 2s/step - loss: 21.7754 - val_loss: 20.2010\n",
            "Epoch 2/50\n",
            "235/235 [==============================] - 545s 2s/step - loss: 19.5137 - val_loss: 19.1793\n",
            "Epoch 3/50\n",
            "235/235 [==============================] - 536s 2s/step - loss: 18.6478 - val_loss: 17.5221\n",
            "Epoch 4/50\n",
            "235/235 [==============================] - 540s 2s/step - loss: 16.3944 - val_loss: 14.4708\n",
            "Epoch 5/50\n",
            "235/235 [==============================] - 538s 2s/step - loss: 13.3016 - val_loss: 11.0043\n",
            "Epoch 6/50\n",
            "235/235 [==============================] - 545s 2s/step - loss: 10.3334 - val_loss: 7.7517\n",
            "Epoch 7/50\n",
            "235/235 [==============================] - 541s 2s/step - loss: 8.2801 - val_loss: 6.5316\n",
            "Epoch 8/50\n",
            "235/235 [==============================] - 539s 2s/step - loss: 6.8999 - val_loss: 5.6376\n",
            "Epoch 9/50\n",
            "235/235 [==============================] - 535s 2s/step - loss: 6.1038 - val_loss: 4.7887\n",
            "Epoch 10/50\n",
            "235/235 [==============================] - 538s 2s/step - loss: 5.6348 - val_loss: 4.4090\n",
            "Epoch 11/50\n",
            "235/235 [==============================] - 535s 2s/step - loss: 4.8695 - val_loss: 4.0155\n",
            "Epoch 12/50\n",
            "235/235 [==============================] - 533s 2s/step - loss: 4.6070 - val_loss: 3.8263\n",
            "Epoch 13/50\n",
            "235/235 [==============================] - 535s 2s/step - loss: 4.1868 - val_loss: 3.5990\n",
            "Epoch 14/50\n",
            "235/235 [==============================] - 538s 2s/step - loss: 3.9428 - val_loss: 3.4250\n",
            "Epoch 15/50\n",
            "235/235 [==============================] - 533s 2s/step - loss: 3.5394 - val_loss: 3.3026\n",
            "Epoch 16/50\n",
            "235/235 [==============================] - 536s 2s/step - loss: 3.3548 - val_loss: 3.1218\n",
            "Epoch 17/50\n",
            "235/235 [==============================] - 539s 2s/step - loss: 4.4645 - val_loss: 3.2629\n",
            "Epoch 18/50\n",
            "235/235 [==============================] - 539s 2s/step - loss: 3.1601 - val_loss: 3.1123\n",
            "Epoch 19/50\n",
            "235/235 [==============================] - 540s 2s/step - loss: 2.8568 - val_loss: 2.8970\n",
            "Epoch 20/50\n",
            "235/235 [==============================] - 541s 2s/step - loss: 2.6691 - val_loss: 2.8569\n",
            "Epoch 21/50\n",
            "235/235 [==============================] - 542s 2s/step - loss: 2.5490 - val_loss: 2.8217\n",
            "Epoch 22/50\n",
            "235/235 [==============================] - 539s 2s/step - loss: 2.3887 - val_loss: 2.7955\n",
            "Epoch 23/50\n",
            "235/235 [==============================] - 541s 2s/step - loss: 2.2914 - val_loss: 2.8426\n",
            "Epoch 24/50\n",
            "235/235 [==============================] - 540s 2s/step - loss: 2.2632 - val_loss: 2.7859\n",
            "Epoch 25/50\n",
            "235/235 [==============================] - 539s 2s/step - loss: 2.0976 - val_loss: 2.7666\n",
            "Epoch 26/50\n",
            "235/235 [==============================] - 537s 2s/step - loss: 2.0380 - val_loss: 2.7687\n",
            "Epoch 27/50\n",
            "235/235 [==============================] - 536s 2s/step - loss: 1.8971 - val_loss: 2.7514\n",
            "Epoch 28/50\n",
            "235/235 [==============================] - 536s 2s/step - loss: 1.7686 - val_loss: 2.9696\n",
            "Epoch 29/50\n",
            "235/235 [==============================] - 534s 2s/step - loss: 1.7255 - val_loss: 2.7868\n",
            "Epoch 30/50\n",
            "235/235 [==============================] - 536s 2s/step - loss: 1.6058 - val_loss: 2.7767\n",
            "Epoch 31/50\n",
            "235/235 [==============================] - 542s 2s/step - loss: 1.5397 - val_loss: 2.8074\n",
            "Epoch 32/50\n",
            "235/235 [==============================] - 545s 2s/step - loss: 1.4922 - val_loss: 2.8808\n",
            "Epoch 33/50\n",
            "235/235 [==============================] - 533s 2s/step - loss: 1.4206 - val_loss: 2.8755\n",
            "Epoch 34/50\n",
            "235/235 [==============================] - 533s 2s/step - loss: 1.3600 - val_loss: 2.9891\n",
            "Epoch 35/50\n",
            "235/235 [==============================] - 533s 2s/step - loss: 1.3029 - val_loss: 2.8731\n",
            "Epoch 36/50\n",
            "235/235 [==============================] - 532s 2s/step - loss: 1.2436 - val_loss: 2.9447\n",
            "Epoch 37/50\n",
            "235/235 [==============================] - 535s 2s/step - loss: 1.2380 - val_loss: 2.8762\n"
          ]
        }
      ],
      "source": [
        "### Create epochs to test the accuracy of the models\n",
        "epochs = 50\n",
        "early_stopping_patience = 10\n",
        "early_stopping = keras.callbacks.EarlyStopping(\n",
        "    monitor=\"val_loss\", patience=early_stopping_patience, restore_best_weights=True\n",
        ")\n",
        "\n",
        "history = model.fit(\n",
        "    x = (x_train, y_train, train_input_len, train_label_len),\n",
        "    y = np.zeros([train_length]),\n",
        "    validation_data = ([x_val, y_val, valid_input_len, valid_label_len], np.zeros([validation_length]) ),\n",
        "    epochs=epochs,\n",
        "    batch_size = 128,\n",
        "    callbacks=[early_stopping]\n",
        ")"
      ]
    },
    {
      "cell_type": "code",
      "execution_count": null,
      "id": "6a5039e1",
      "metadata": {
        "execution": {
          "iopub.execute_input": "2022-10-27T15:48:16.946123Z",
          "iopub.status.busy": "2022-10-27T15:48:16.945383Z",
          "iopub.status.idle": "2022-10-27T15:48:16.958963Z",
          "shell.execute_reply": "2022-10-27T15:48:16.957586Z"
        },
        "papermill": {
          "duration": 0.5998,
          "end_time": "2022-10-27T15:48:16.961636",
          "exception": false,
          "start_time": "2022-10-27T15:48:16.361836",
          "status": "completed"
        },
        "tags": [],
        "id": "6a5039e1",
        "outputId": "2ce4b794-77ad-4ac3-f8ff-0a1e5c86c8f7"
      },
      "outputs": [
        {
          "name": "stdout",
          "output_type": "stream",
          "text": [
            "Model: \"model\"\n",
            "_________________________________________________________________\n",
            "Layer (type)                 Output Shape              Param #   \n",
            "=================================================================\n",
            "image (InputLayer)           [(None, 200, 50, 1)]      0         \n",
            "_________________________________________________________________\n",
            "Conv1 (Conv2D)               (None, 200, 50, 32)       320       \n",
            "_________________________________________________________________\n",
            "pool1 (MaxPooling2D)         (None, 100, 25, 32)       0         \n",
            "_________________________________________________________________\n",
            "Conv2 (Conv2D)               (None, 100, 25, 64)       18496     \n",
            "_________________________________________________________________\n",
            "pool2 (MaxPooling2D)         (None, 50, 12, 64)        0         \n",
            "_________________________________________________________________\n",
            "reshape (Reshape)            (None, 50, 768)           0         \n",
            "_________________________________________________________________\n",
            "dense1 (Dense)               (None, 50, 64)            49216     \n",
            "_________________________________________________________________\n",
            "dropout (Dropout)            (None, 50, 64)            0         \n",
            "_________________________________________________________________\n",
            "bidirectional (Bidirectional (None, 50, 512)           657408    \n",
            "_________________________________________________________________\n",
            "bidirectional_1 (Bidirection (None, 50, 512)           1574912   \n",
            "_________________________________________________________________\n",
            "output (Dense)               (None, 50, 31)            15903     \n",
            "=================================================================\n",
            "Total params: 2,316,255\n",
            "Trainable params: 2,316,255\n",
            "Non-trainable params: 0\n",
            "_________________________________________________________________\n"
          ]
        }
      ],
      "source": [
        "#### Predict the models\n",
        "prediction_model = keras.models.Model(\n",
        "    model.get_layer(name=\"image\").input, model.get_layer(name=\"output\").output\n",
        ")\n",
        "prediction_model.summary()"
      ]
    },
    {
      "cell_type": "code",
      "execution_count": null,
      "id": "ed5a6b2b",
      "metadata": {
        "execution": {
          "iopub.execute_input": "2022-10-27T15:48:18.114208Z",
          "iopub.status.busy": "2022-10-27T15:48:18.113736Z",
          "iopub.status.idle": "2022-10-27T15:48:46.747103Z",
          "shell.execute_reply": "2022-10-27T15:48:46.745512Z"
        },
        "papermill": {
          "duration": 29.20492,
          "end_time": "2022-10-27T15:48:46.750087",
          "exception": false,
          "start_time": "2022-10-27T15:48:17.545167",
          "status": "completed"
        },
        "tags": [],
        "id": "ed5a6b2b"
      },
      "outputs": [],
      "source": [
        "### Decode the prediction models to return texts of the images\n",
        "def decode_predictions(pred):\n",
        "    input_len = np.ones(pred.shape[0]) * pred.shape[1]\n",
        "    results = keras.backend.ctc_decode(pred, input_length=input_len, greedy=True)[0][0][\n",
        "        :, :max_length\n",
        "    ]\n",
        "    output_text = []\n",
        "    for res in results:\n",
        "        decoded = tokenizer.sequences_to_texts([res.numpy()])\n",
        "        output_text.append(decoded)\n",
        "    return output_text"
      ]
    },
    {
      "cell_type": "code",
      "execution_count": null,
      "id": "f05a1687",
      "metadata": {
        "execution": {
          "iopub.execute_input": "2022-10-27T15:48:47.949153Z",
          "iopub.status.busy": "2022-10-27T15:48:47.948303Z",
          "iopub.status.idle": "2022-10-27T15:49:08.155401Z",
          "shell.execute_reply": "2022-10-27T15:49:08.153767Z"
        },
        "papermill": {
          "duration": 20.861744,
          "end_time": "2022-10-27T15:49:08.158905",
          "exception": false,
          "start_time": "2022-10-27T15:48:47.297161",
          "status": "completed"
        },
        "tags": [],
        "id": "f05a1687"
      },
      "outputs": [],
      "source": [
        "### Compare the actual images and predictions\n",
        "preds = prediction_model.predict(x_test)\n",
        "pred_texts = decode_predictions(preds)"
      ]
    },
    {
      "cell_type": "code",
      "execution_count": null,
      "id": "4b30860b",
      "metadata": {
        "execution": {
          "iopub.execute_input": "2022-10-27T15:49:09.274229Z",
          "iopub.status.busy": "2022-10-27T15:49:09.273738Z",
          "iopub.status.idle": "2022-10-27T15:49:10.287014Z",
          "shell.execute_reply": "2022-10-27T15:49:10.285540Z"
        },
        "papermill": {
          "duration": 1.568804,
          "end_time": "2022-10-27T15:49:10.290694",
          "exception": false,
          "start_time": "2022-10-27T15:49:08.721890",
          "status": "completed"
        },
        "tags": [],
        "id": "4b30860b",
        "outputId": "add88a73-fb0d-479b-d194-d6192dcc23da"
      },
      "outputs": [
        {
          "data": {
            "image/png": "[encoded data removed]",
            "text/plain": [
              "<Figure size 1080x360 with 16 Axes>"
            ]
          },
          "metadata": {
            "needs_background": "light"
          },
          "output_type": "display_data"
        }
      ],
      "source": [
        "### Display the texts of the images after decoding\n",
        "_, ax = plt.subplots(4, 4, figsize=(15, 5))\n",
        "for i in range(16):\n",
        "    img = x_test[i]\n",
        "    img = cv2.rotate(img, cv2.ROTATE_90_COUNTERCLOCKWISE)\n",
        "    title = f\"Prediction: {pred_texts[i][0]}\"\n",
        "    ax[i // 4, i % 4].imshow(img, cmap=\"gray\")\n",
        "    ax[i // 4, i % 4].set_title(title)\n",
        "    ax[i // 4, i % 4].axis(\"off\")\n",
        "plt.show()"
      ]
    }
  ],
  "metadata": {
    "kernelspec": {
      "display_name": "Python 3 (ipykernel)",
      "language": "python",
      "name": "python3"
    },
    "language_info": {
      "codemirror_mode": {
        "name": "ipython",
        "version": 3
      },
      "file_extension": ".py",
      "mimetype": "text/x-python",
      "name": "python",
      "nbconvert_exporter": "python",
      "pygments_lexer": "ipython3",
      "version": "3.9.12"
    },
    "papermill": {
      "default_parameters": {},
      "duration": 20363.659613,
      "end_time": "2022-10-27T15:49:14.311234",
      "environment_variables": {},
      "exception": null,
      "input_path": "__notebook__.ipynb",
      "output_path": "__notebook__.ipynb",
      "parameters": {},
      "start_time": "2022-10-27T10:09:50.651621",
      "version": "2.3.4"
    },
    "vscode": {
      "interpreter": {
        "hash": "bee799bd57bed2eb25697912629e002b19034209cc8fa49e74c54a74b17feb5f"
      }
    },
    "colab": {
      "provenance": [],
      "include_colab_link": true
    }
  },
  "nbformat": 4,
  "nbformat_minor": 5
}